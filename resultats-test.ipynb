{
 "cells": [
  {
   "cell_type": "markdown",
   "metadata": {},
   "source": [
    "# **Flappy Bird : Test de différents paramètres d'apprentissage**\n",
    "\n",
    "Les tests ont été réalisés pour l'environnement Flappy Bird (https://github.com/davHub/flappy-bird-env.git) dans le cas où l'observation est l'image entière $\\Rightarrow$ flappyBird_cnn"
   ]
  },
  {
   "cell_type": "markdown",
   "metadata": {},
   "source": [
    "## Détail de l'environnement\n",
    "Description FlappyBird_env: \n",
    "- 1 bird \n",
    "- Observation : image 84 x 84 x 1 (grayscale from -1 to 1)\n",
    "- Reward : +1 à chaque step, 0 si done\n",
    "\n",
    "## Paramétrage standard\n",
    "Quand rien n'est spécifié:\n",
    "\n",
    "- Architecture: 8x8_Conv2D(32) - ReLU - 4x4_Conv2D(64) - ReLU - 3x3_Conv2D(64) - ReLU - Flatten - Dense(512) - ReLU - Dense(2)\n",
    "- Gamma : $\\gamma=0.975$"
   ]
  },
  {
   "cell_type": "markdown",
   "metadata": {},
   "source": [
    "### **Sommaire**\n",
    "1. [Test 1 : Best model ~60 points en moyenne](#test-1)<br>\n",
    "    1.1 : [Re-entraînement : Best model ~80 points en moyenne](#retrain1)<br>\n",
    "    \n",
    "2. [Test 2 : Best model ~12 points en moyenne](#test-2)<br>\n",
    "\n",
    "3. [Comparaison](#comp)<br>\n",
    "    3.1 [Comparaison Test 1 vs Test 2](#comp1vs2)<br>\n"
   ]
  },
  {
   "cell_type": "markdown",
   "metadata": {},
   "source": [
    "<a id=\"test-1\"></a>\n",
    "## **1. Test 1 : ~ 60 points**\n",
    "\n",
    "### Paramétrage global\n",
    "\n",
    "> $\\alpha$ = 0.00025 | $\\gamma$ = 0.975  |  $\\epsilon_{deb}$=1.0  |   $\\epsilon_{fin}$= 0.1  |  $batch\\_size$ = 32   |   $memory\\_size$ = 10 000    |    $C$ = 200  |  $num\\_steps$ = 2 000 000\n",
    " Experience Replay : Simple Buffer\n",
    "\n",
    "\n",
    "### Résultats\n",
    "\n",
    "Durée apprentissage : <em style='color:red'> 6h23 </em>\n",
    "\n",
    "![alt text](plot_img/Qvalue-full-image1.gif \"Q-Value\")\n",
    "\n",
    "### Interprétation/Conclusion\n",
    "\n",
    "<a id=\"retrain1\"></a>\n",
    "### **1.1 Retrain : ~ 80 points**\n",
    "\n",
    "Re-apprentissage à partir du dernier modèle enregistré (step 2M).\n",
    "\n",
    "### Paramétrage global\n",
    "\n",
    "> $\\alpha$ = 0.00025 | $\\gamma$ = 0.975  |  $\\epsilon_{deb}$=0.1  |   $\\epsilon_{fin}$= 0.01  |  $batch\\_size$ = 32   |   $memory\\_size$ = 10 000    |    $C$ = 200  |  $num\\_steps$ = 1 000 000\n",
    "\n",
    "### Résultats\n",
    "\n",
    "Durée apprentissage : <em style='color:red'> 3h24 </em>\n",
    "\n",
    "![alt text](plot_img/Qvalue-full-image2.gif \"Q-Value\")\n",
    "![alt text](plot_img/Qvalue-full-image2.gif \"Q-Value\")\n",
    "\n",
    "\n",
    "**GradCAM & ExtractActivations**\n",
    "\n",
    "![alt_text](plot_img/tf_explain/Flappy_Test_1/extractActiv_test1-2M.gif \"Extract Activation 2 millions\")\n",
    "![alt_text](plot_img/tf_explain/Flappy_Test_1/gradCam_test1-2M.gif \"GradCAM 2 millions\")\n",
    "### Interprétation/Conclusion\n",
    "\n",
    "De très bons résultats. Le paramètre $\\gamma$ a été choisi de tel sorte qu'il que Flappy voit plus loin que la prochaine plateforme (entre 2 et 3 plateformes)"
   ]
  },
  {
   "cell_type": "markdown",
   "metadata": {},
   "source": [
    "<a id=\"test-2\"></a>\n",
    "## **2. Tests 2 : ~10 points**\n",
    "\n",
    "### Paramétrage global\n",
    "\n",
    "> $\\alpha$ = 0.001 | $\\gamma$ = 0.975   |  $\\epsilon_{deb}$=1.0  |   $\\epsilon_{fin}$= 0.1  |  $batch\\_size$ = 32   |   $memory\\_size$ = 50 000    |    $C$ = 10 000  |   $num\\_steps$ = 6 000 000\n",
    "\\\\ Experience Replay : Prioritized ($\\alpha = 0.6,\\ \\ \\beta=0.4\\ \\ \\epsilon=1.e-6$)\n",
    "\n",
    "### Résultats\n",
    "\n",
    "Durée apprentissage : <em style='color:red'> 23h56 </em>\n",
    "\n",
    "![alt text](plot_img/Value-full-image3.gif \"Value\")\n",
    "![alt text](plot_img/Qvalue-full-image3.gif \"Q-Value\")\n",
    "\n",
    "\n",
    "*Explication de la première couche :*\n",
    "\n",
    "**Grad CAM** de la 1ère couche après 200 000, 3M et 6M de steps :\n",
    "\n",
    "![alt_text](plot_img/tf_explain/Flappy_Test_2/gradCam_test2-200m.gif \"GradCAM 200 000\")\n",
    "![alt_text](plot_img/tf_explain/Flappy_Test_2/gradCam_test2-3M.gif \"GradCAM 3 millions\")\n",
    "![alt_text](plot_img/tf_explain/Flappy_Test_2/gradCam_test2-6M.gif \"GradCAM 6 millions\")\n",
    "\n",
    "**Activation extraction** de la 1ère couche après 200 000, 3M et 6M de steps :\n",
    "\n",
    "![alt_text](plot_img/tf_explain/Flappy_Test_2/extractActiv_test2-200m.gif \"Extract Activation 200 000\")\n",
    "![alt_text](plot_img/tf_explain/Flappy_Test_2/extractActiv_test2-3M.gif \"Extract Activation 3 millions\")\n",
    "![alt_text](plot_img/tf_explain/Flappy_Test_2/extractActiv_test2-6M.gif \"Extract Activation 6 millions\")\n",
    "\n",
    "Ici, on observe ce que chacun des 32 filtres de la première couche filtre. Le résultat après 3M de steps est plutôt bien mais pas celui après 6M de steps. En effet seulement quelques filtres semblent donner une quelconque information. Cela est peut-être du à une sorte d'over-fitting (Il faudrait réessayer en ajoutant du Dropout).\n",
    "\n",
    "### Interprétation/Conclusion\n",
    "On remarque une amélioration jusqu'à un peu plus de la moitié de l'apprentissage. Notamment les résultats du réseau en ce qui concerne la localisation des zones d'importances de l'image (gradCAM). Après un certain moment cependant, les résultats deviennent de moins en moins bons.\n",
    "Tout de même, les résultats de cet apprentissage sont très médiocre. Deux possibilités peuvent en être la cause : le prioritized replay ou le paramètre C qui est trop grand."
   ]
  },
  {
   "cell_type": "markdown",
   "metadata": {},
   "source": [
    "<a id=\"comp\"></a>\n",
    "##  **3. Comparaison**\n",
    "\n",
    "Comparaison des apprentissages de plusieurs tests.\n",
    "\n",
    "<a id=\"comp1vs2\"></a>\n",
    "###  **3.1 Comparaison Test 1 vs Test 2**\n",
    "![alt text](plot_img/vs/1vs2-eps-value.png \"Value Comparison\")\n",
    "![alt text](plot_img/vs/1vs2-eps-rew.png \"Reward Comparison\")\n",
    "![alt text](plot_img/vs/1vs2-eps-loss.png \"Loss Comparison\")\n",
    "\n",
    "### Interprétation/Conclusion\n",
    "\n",
    "Pour la fonction de valeur, le test 1 va bien plus rapidement vers une valeur très proche de la valeur espérée. Il produit également de meilleurs résultats pour une raison que je n'esplique pas encore (peut-être le paramètre C)."
   ]
  }
 ],
 "metadata": {
  "kernelspec": {
   "display_name": "Python 3",
   "language": "python",
   "name": "python3"
  },
  "language_info": {
   "codemirror_mode": {
    "name": "ipython",
    "version": 3
   },
   "file_extension": ".py",
   "mimetype": "text/x-python",
   "name": "python",
   "nbconvert_exporter": "python",
   "pygments_lexer": "ipython3",
   "version": "3.5.3"
  }
 },
 "nbformat": 4,
 "nbformat_minor": 2
}
