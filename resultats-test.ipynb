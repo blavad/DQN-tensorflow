{
 "cells": [
  {
   "cell_type": "markdown",
   "metadata": {},
   "source": [
    "# **Flappy Bird : Test de différents paramètres d'apprentissage**\n",
    "\n",
    "Les tests ont été réalisés pour l'environnement Flappy Bird (https://github.com/davHub/flappy-bird-env.git) dans le cas simple flappyBird_env"
   ]
  },
  {
   "cell_type": "markdown",
   "metadata": {},
   "source": [
    "## Détail de l'environnement\n",
    "Description FlappyBird_env: \n",
    "- 1 bird \n",
    "- Observation : $\\Delta$y\n",
    "- Reward : +1 à chaque step, 0 si done\n",
    "\n",
    "## Paramétrage standard\n",
    "Quand rien n'est spécifié:\n",
    "\n",
    "- Architecture: Dense(10) - Dropout(0.2) - Tanh - Dense(8) - Tanh - Dense(2)\n",
    "- Experience Replay : Prioritized ($\\alpha = 0.6,\\ \\ \\beta=0.4\\ \\ \\epsilon=1.e-6$)\n",
    "- Learning rate : $\\alpha=0.00025$\n",
    "- Gamma : $\\gamma=0.9$"
   ]
  },
  {
   "cell_type": "markdown",
   "metadata": {},
   "source": [
    "### **Sommaire**\n",
    "1. [Test Exp Replay](#test-ExpReplay)<br>\n",
    "\n",
    "2. [Test Greedy-$\\epsilon$](#test-greedyEps)<br>\n",
    "    2.1 [Test 1 : Full Exploration](#test-greedyExpl)<br>\n",
    "    2.2 [Test 2 : Mixte](#test-greedyMixte)<br>\n",
    "    2.3 [Test 3 : Full Exploration](#test-greedyExploit)<br>\n",
    "\n",
    "3. [Test Learning Rate](#test-lr)<br>\n",
    "    3.1 [Test 1 : Comparaison $\\alpha = 0.00025$ vs $\\alpha = 0.001$](#test-lr-vs)<br>\n"
   ]
  },
  {
   "cell_type": "markdown",
   "metadata": {},
   "source": [
    "<a id=\"test-ExpReplay\"></a>\n",
    "## **1. Test Exp Replay (SimpleBuffer vs Prioritized)**\n",
    "\n",
    "### Paramétrage global\n",
    "\n",
    "$\\alpha$ = 0.001 | $\\gamma$ = 0.9  |  $\\epsilon_{deb}$=1.0  |   $\\epsilon_{fin}$= 0.1  |  $batch\\_size$ = 32   |   $memory\\_size$ = 10000    |    $C$ = 200\n",
    "\n",
    "num_episodes = 800"
   ]
  },
  {
   "cell_type": "markdown",
   "metadata": {},
   "source": [
    "<a id=\"test-greedyEps\"></a>\n",
    "## **2. Tests greedy-$\\epsilon$ exploration**\n",
    "\n",
    "Les tests ont été réalisés avec les hyperparamètres suivants :\n",
    "\n",
    "> $\\alpha$ = 0.00025 | $\\gamma$ = 0.9   |  $batch\\_size$ = 32   |   $memory\\_size$ = 10000    |    $C$ = 200  |   num_episodes = 1000\n",
    "\n",
    "L'exploration est linéaire durant les 1000 épisodes entre $\\epsilon_{deb}$ et $\\epsilon_{fin}$"
   ]
  },
  {
   "cell_type": "markdown",
   "metadata": {},
   "source": [
    "<a id=\"test-greedyExpl\"></a>\n",
    "### **Test 1 : Quasi Full exploration**\n",
    "\n",
    "### Paramétrage global\n",
    "\n",
    "> $\\alpha$ = 0.00025 | $\\gamma$ = 0.9  |  $\\epsilon_{deb}$=1.0  |   $\\epsilon_{fin}$= 0.8  |  $batch\\_size$ = 32   |   $memory\\_size$ = 10000    |    $C$ = 200  |   num_episodes = 1000\n",
    "\n",
    "### Résultats\n",
    "\n",
    "Durée apprentissage : <em style='color:red'> 2h25 </em>\n",
    "\n",
    "![alt text](plot_img/Value-t1.gif \"Value\")\n",
    "![alt text](plot_img/QValue-t1.gif \"Q-Value\")\n",
    "\n",
    "> **-> Démarrage entraînement (1 épisode)**\n",
    "> <br><em style='color:red'> A l'initial, l'aspect de la courbe est proche de la fonction TanH (couche d'activation choisie) </em>\n",
    "\n",
    " ![alt text](plot_img/Value-model-0.png \"Value after no epochs\")\n",
    " ![alt text](plot_img/Qvalue-model-0.png \"Q-value after no epochs\")\n",
    "\n",
    "\n",
    "> **-> Début entraînement (100 épisodes)** -- Stratégie quasi parfaite\n",
    "\n",
    "![alt text](plot_img/Value-model-100.png \"Value after 100 epochs\")\n",
    "![alt text](plot_img/Qvalue-model-100.png \"Q-value after 100 epochs\")\n",
    "\n",
    "\n",
    "> **-> Milieu entraînement (500 épisodes)**\n",
    "\n",
    "![alt text](plot_img/Value-model-500.png \"Value after 500 epochs\")\n",
    "![alt text](plot_img/Qvalue-model-500.png \"Q-value after 500 epochs\")\n",
    "\n",
    "> **-> Fin entraînement (1000 épisodes)**\n",
    "\n",
    "![alt text](plot_img/Value-model-1000.png \"Value after 1000 epochs\")\n",
    "![alt text](plot_img/Qvalue-model-1000.png \"Q-value after 1000 epochs\")\n",
    "\n",
    "### Interprétation/Conclusion\n",
    "\n",
    "\n",
    "Une bonne stratégie (celle du Bot) est trouvée extrêmement rapidement (< 100 épisodes). De plus, avec seulement la phase d'exploration (de 100\\% à 80\\% d'exploration), l'algo comprend la mécanique de ce système.\n",
    "La fonction de valeur quand à elle met un certain temps à converger. Même si la convergence ne semble pas terminée, après 1000 épisodes on distingue un applatissement surprenant de la fonction de valeur autour de 0. La largeur de l'applatissement est environ égale à : $$min\\_size\\_ouv - \\frac{epaisseur\\_bird}{2} = 60 - 7.5 \\approx 50 $$\n",
    "En d'autre termes, l'espérance à long terme dans cet intervalle est identique. "
   ]
  },
  {
   "cell_type": "markdown",
   "metadata": {},
   "source": [
    "<a id=\"test-greedyMixte\"></a>\n",
    "### **Test 2 : From full exploration to few exploration**\n",
    "\n",
    "### Paramétrage global (Idem sauf $\\epsilon$)\n",
    "\n",
    "> $\\alpha$ = 0.001 | $\\gamma$ = 0.9  |  $\\epsilon_{deb}$=1.0  |   $\\epsilon_{fin}$= 0.1  |  $batch\\_size$ = 32   |   $memory\\_size$ = 10000    |    $C$ = 200  |   num_episodes = 1000\n",
    "\n",
    "### Résultats\n",
    "\n",
    "Durée apprentissage : <em style='color:red'> 5h40 </em>\n",
    "\n",
    "![alt text](plot_img/Value-t2.gif \"Value after no epochs\")\n",
    "![alt text](plot_img/QValue-t2.gif \"Value after no epochs\")\n",
    "\n",
    "<!--\n",
    "> **-> Démarrage entraînement (1 épisode)**\n",
    "\n",
    " ![alt text](plot_img/Value-t2-Eps-0.png \"Value after no epochs\")\n",
    " ![alt text](plot_img/Qvalue-t2-Eps-0.png \"Q-value after no epochs\")\n",
    "-->\n",
    "\n",
    "> **-> Début entraînement (100 épisodes)** \n",
    "\n",
    "![alt text](plot_img/Value-t2-Eps-100.png \"Value after 100 epochs\")\n",
    "![alt text](plot_img/Qvalue-t2-Eps-100.png \"Q-value after 100 epochs\")\n",
    "\n",
    "<!--\n",
    "> **-> Milieu 1 entraînement (350 épisodes)** \n",
    "\n",
    "![alt text](plot_img/Value-t2-Eps-350.png \"Value after 350 epochs\")\n",
    "![alt text](plot_img/Qvalue-t2-Eps-350.png \"Q-value after 350 epochs\")\n",
    "\n",
    "> **-> Milieu 2 entraînement (500 épisodes)** \n",
    "\n",
    "![alt text](plot_img/Value-t2-Eps-500.png \"Value after 500 epochs\")\n",
    "![alt text](plot_img/Qvalue-t2-Eps-500.png \"Q-value after 500 epochs\")\n",
    "\n",
    "> **-> Fin entraînement (1000 épisodes)**\n",
    "\n",
    "![alt text](plot_img/Value-t2-Eps-1000.png \"Value after 1000 epochs\")\n",
    "![alt text](plot_img/Qvalue-t2-Eps-1000.png \"Q-value after 1000 epochs\")\n",
    "-->\n",
    "\n",
    "### Interprétation / Conlusion"
   ]
  },
  {
   "cell_type": "markdown",
   "metadata": {},
   "source": [
    "<a id=\"test-greedyExploit\"></a>\n",
    "### **Test 3 : Only few exploration**\n",
    "\n",
    "### Paramétrage global (Idem sauf $\\epsilon$)\n",
    "\n",
    "> $\\alpha$ = 0.00025 | $\\gamma$ = 0.9  |  $\\epsilon_{deb}$=0.1  |   $\\epsilon_{fin}$= 0.01  |  $batch\\_size$ = 32   |   $memory\\_size$ = 10000    |    $C$ = 200  |   num_episodes = 1000\n",
    "\n",
    "### Résultats\n",
    "\n",
    "![alt text](plot_img/Value-t3.gif \"Value\")\n",
    "![alt text](plot_img/QValue-t3.gif \"QValue\")\n",
    "\n",
    "<!--\n",
    "> **-> Démarrage entraînement (1 épisode)**\n",
    "\n",
    " ![alt text](plot_img/Value-lowEps-0.png \"Value after no epochs\")\n",
    " ![alt text](plot_img/Qvalue-lowEps-0.png \"Q-value after no epochs\")\n",
    "\n",
    "> **-> Début entraînement (100 épisodes)** \n",
    "\n",
    "![alt text](plot_img/Value-lowEps-100.png \"Value after 100 epochs\")\n",
    "![alt text](plot_img/Qvalue-lowEps-100.png \"Q-value after 100 epochs\")\n",
    "\n",
    "> **-> Fin entraînement (250 épisodes)**\n",
    "\n",
    "![alt text](plot_img/Value-lowEps-250.png \"Value after 250 epochs\")\n",
    "![alt text](plot_img/Qvalue-lowEps-250.png \"Q-value after 250 epochs\")\n",
    "\n",
    "-->\n",
    "\n",
    "### Interprétation / Conlusion\n",
    "\n",
    "La réalisation d'un épisode est plus long. Ceci est dû à la plus forte utilisation de l'exploitation du modèle (qui nécessitee un passage entier dans le réseau, plus coûteux en calcul qu'un simple random) en dépit de l'exploration."
   ]
  },
  {
   "cell_type": "markdown",
   "metadata": {},
   "source": [
    "## Comparaison apprentissage des 3 tests : \n",
    "\n",
    "![alt text](plot_img/vs/eps-loss.png \"Comparaison Loss\")\n",
    "![alt text](plot_img/vs/eps-rew.png \"Comparaison Rewards\")"
   ]
  },
  {
   "cell_type": "markdown",
   "metadata": {},
   "source": [
    "<a id=\"test-lr\"></a>\n",
    "## **2. Tests Learning Rate**\n",
    "\n",
    "Les tests ont été réalisés avec les hyperparamètres suivants :\n",
    "\n",
    "> $\\gamma$ = 0.9   |  $\\epsilon_{deb}$=1.0  |   $\\epsilon_{fin}$= 0.1  |   $batch\\_size$ = 32   |   $memory\\_size$ = 10000    |    $C$ = 200  |   num_episodes = 1000"
   ]
  },
  {
   "cell_type": "markdown",
   "metadata": {},
   "source": [
    "<a id=\"test-lr-vs\"></a>\n",
    "### **Test 1 : Comparaison $\\alpha$ =  0.001 vs $\\alpha$ = 0.00025**\n",
    "\n",
    "### Résultats\n",
    "\n",
    "![alt text](plot_img/vs/loss-lr-000025vs0001.png \"Comparaison Loss\")\n",
    "![alt text](plot_img/vs/rew-lr-000025vs0001.png \"Comparaison Rewards\")\n",
    "\n",
    "### Interprétation / Conlusion\n",
    "\n",
    "La valeure $\\alpha = 0.00025$ semble donner de meilleurs résultats que $\\alpha = 0.001$ car la reward est plus importante dès de début."
   ]
  }
 ],
 "metadata": {
  "kernelspec": {
   "display_name": "Python 3",
   "language": "python",
   "name": "python3"
  },
  "language_info": {
   "codemirror_mode": {
    "name": "ipython",
    "version": 3
   },
   "file_extension": ".py",
   "mimetype": "text/x-python",
   "name": "python",
   "nbconvert_exporter": "python",
   "pygments_lexer": "ipython3",
   "version": "3.5.3"
  }
 },
 "nbformat": 4,
 "nbformat_minor": 2
}
